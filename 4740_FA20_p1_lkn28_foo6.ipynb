{
  "nbformat": 4,
  "nbformat_minor": 0,
  "metadata": {
    "colab": {
      "name": "4740_FA20_p1_lkn28_foo6.ipynb",
      "provenance": [],
      "collapsed_sections": [
        "9MVtIIyEzSS2",
        "ddOznZ7P2nlI",
        "HvET3mDvxL2j"
      ],
      "toc_visible": true,
      "include_colab_link": true
    },
    "kernelspec": {
      "name": "python3",
      "display_name": "Python 3"
    }
  },
  "cells": [
    {
      "cell_type": "markdown",
      "metadata": {
        "id": "view-in-github",
        "colab_type": "text"
      },
      "source": [
        "<a href=\"https://colab.research.google.com/github/omullo/NLP-Playground/blob/main/4740_FA20_p1_lkn28_foo6.ipynb\" target=\"_parent\"><img src=\"https://colab.research.google.com/assets/colab-badge.svg\" alt=\"Open In Colab\"/></a>"
      ]
    },
    {
      "cell_type": "markdown",
      "metadata": {
        "id": "tMR2in3Elmb0"
      },
      "source": [
        "# Project 1: Language Modeling and Fake News Classification"
      ]
    },
    {
      "cell_type": "markdown",
      "metadata": {
        "id": "Nw061uMf-vyu"
      },
      "source": [
        "Names: Luke Nyalala, Frank Omullo\n",
        "\n",
        "Netids: lkn28,foo6\n",
        "\n",
        "**After you make your own copy, please rename this notebook by clicking on it's name in the upper left corner.** It should be named: 4740_FA20_p1_netid1_netid2\n",
        "\n",
        "Don't forget to share your newly copied notebook with your partner!"
      ]
    },
    {
      "cell_type": "markdown",
      "metadata": {
        "id": "9e1Dnqk6GmdH"
      },
      "source": [
        "**Reminder: both of you can't work in this notebook at the same time from different computers/browser windows because of sync issues. We even suggest to close the tab with this notebook when you are not working on it so your partner doesn't get sync issues.**"
      ]
    },
    {
      "cell_type": "markdown",
      "metadata": {
        "id": "yVNUIk8d-oBn"
      },
      "source": [
        "## Introduction\n",
        "In this project we will build an **n-gram-based language model** for fake news classification. We will also investigate a feature-based **Naive Bayes model**. The task we are faced with is to **decide whether a news article is fake or real**. While some fake articles are so absurd and nonsensical that one can clearly guess they are fake, most fake news is actually quite hard to detect. [Various studies](https://pacscenter.stanford.edu/research/program-on-democracy-and-the-internet/deception-detection-accuracy-for-fake-news-headlines-on-social-media/) have shown that most people can have an error rate up to 50% depending on the theme of the article. \n",
        "\n",
        "To help us approach this problem, we will use NLP techniques covered thus far to frame this as a (supervised) binary classification task, where each article will have a label $y \\in \\{0,1\\}$, where *0 indicates a fake article* and *1 indicates a real one*. You will train and validate your two different models and then run them on a test data set with hidden $y$ labels. You will then submit the results on the test data set to Kaggle to participate in our class-wide competition!\n",
        "\n",
        "The project is divided into six parts:\n",
        "1. Dataset loading and preprocessing\n",
        "2. Unsmoothed n-gram language model (LM): build the unsmoothed n-gram language model using our Fake News corpus. \n",
        "3. Smoothed n-gram language model: build a smoothed version of the model from part 2.\n",
        "4. Perplexity: compute perplexity for both the unsmoothed and smoothed model\n",
        "5. Putting everything together and submitting the first model to Kaggle\n",
        "6. Naive Bayes: build a feature-based Naive Bayes model to perform the same classification task. Compare the LM with Naive Bayes and identify the pros and cons of each.\n",
        "\n",
        "**Logistics:** You should work in **groups of 2 students**. Students in the same group will get the same grade. Thus, you should make sure that everyone in your group contributes to the project. \n",
        "- **Remember to form groups on BOTH CMS and Gradescope** or not all group members will receive grades. You can use the Teammate Search option on Piazza to find a partner for this project.\n",
        "\n",
        "**Advice:** Please complete the written parts of this notebook in a clear and informative way. This is where you get to show us that you understand not only what you are doing but also why and how you are doing it. So be clear, organized and concise; avoid vagueness and excess verbiage. Spend time\n",
        "doing error analysis for the models. This is how you understand the advantages and drawbacks of the systems you build. \n",
        "- It's also useful to think about how the theory of n-grams/Naive Bayes bridges with the real world application we are building. Think about what you expect from these models based on your current understanding, and then see if your expectation aligns with empirical results that you'll get. "
      ]
    },
    {
      "cell_type": "markdown",
      "metadata": {
        "id": "HwgqdDbTPVeA"
      },
      "source": [
        "## General Guidelines\n",
        "In this project, we provide a few code snippets or starter points in case you need them. You DO NOT need to follow the structure. \n",
        "\n",
        "If you think you have a better idea, go for it. You can ADD, MODIFY, or DELETE any code snippets given to you.\n",
        "\n",
        "**Let's do this** 🚀"
      ]
    },
    {
      "cell_type": "markdown",
      "metadata": {
        "id": "LLmJ-2h5pr6n"
      },
      "source": [
        "### Dataset\n",
        "\n",
        "You are given a **News Corpus** on CMS, which consists of roughly the same amount of real and fake news articles.\n",
        "\n",
        "Real news example:\n",
        "```\n",
        "The OpenAI technology, known as GPT-2, is designed to predict the next word given all the previous words it is shown within some text. The language-based model has been trained on a dataset of 8 million web pages.\n",
        "```\n",
        "\n",
        "Fake news example:\n",
        "```\n",
        "In a shocking finding, scientist discovered a herd of unicorns living in a remote, previously unexplored valley, in the Andes Mountains. Even more surprising to the researchers was the fact that the unicorns spoke perfect English.\n",
        "```\n",
        "\n",
        "In the dataset folder you should find 4 files, training and validation splits for both real and fake news.\n",
        "\n",
        "The project will proceed generally as follows in terms of code development:\n",
        "1. Write code to train unsmoothed unigram and bigram language models for an arbitrary corpus\n",
        "2. Implement smoothing and unknown word handling. \n",
        "3. Implement the Perplexity calculation. \n",
        "4. Using 1, 2 and 3, together with the provided training and validation sets, develop a language-model-based approach for Fake News Classification.\n",
        "5. Apply your best language-model-based news classifier (from 4) to the\n",
        "provided test set. Submit the results to the online Kaggle competition. \n",
        "6. Use any existing implementation of Naive Bayes (and the provided training and validation sets) to create an additional Naive Bayes fake news classifier. Apply your best NB classifier to the provided test set. Submit the results to the separate Kaggle competition (for NB classifiers). \n",
        "\n",
        "We will progress towards these tasks throughout this notebook."
      ]
    },
    {
      "cell_type": "markdown",
      "metadata": {
        "id": "b2O1icKLpIdF"
      },
      "source": [
        "# Part 1: Preprocessing the Dataset\n",
        "In this part, you are going to do a few things:\n",
        "* Connect to the google drive where the data set is stored\n",
        "* Load and read files\n",
        "* Preprocess the text\n",
        "\n",
        "------\n",
        "**Please upload the dataset to each partner's individual Google Drive now.** We suggest using the same folder structure within Google Drive because the notebook is shared among you, so the code to load the data would have to be changed every time if folder structures are different. One folder structure might be: Google Drive/CS 4740/Project 1/Dataset/ or whatever works for you. See our code below for an example of how we load the data from Google Drive."
      ]
    },
    {
      "cell_type": "markdown",
      "metadata": {
        "id": "zqJXHkfirHCX"
      },
      "source": [
        "## 1.1 Connect to google drive"
      ]
    },
    {
      "cell_type": "code",
      "metadata": {
        "id": "og--UAtbrP4-",
        "outputId": "11961237-0022-4d7c-e02a-a02e624a8d6f",
        "colab": {
          "base_uri": "https://localhost:8080/",
          "height": 34
        }
      },
      "source": [
        "from google.colab import drive\n",
        "drive.mount('/content/drive', force_remount=True)"
      ],
      "execution_count": null,
      "outputs": [
        {
          "output_type": "stream",
          "text": [
            "Mounted at /content/drive\n"
          ],
          "name": "stdout"
        }
      ]
    },
    {
      "cell_type": "markdown",
      "metadata": {
        "id": "yspKotLCr8kj"
      },
      "source": [
        "## 1.2 Load and read files\n",
        "First, let's install [NLTK](https://www.nltk.org/), a very widely package for NLP preprocessing (and other tasks) for Python."
      ]
    },
    {
      "cell_type": "code",
      "metadata": {
        "id": "HyUwo9CthoiW",
        "outputId": "c3b5c2d4-e29a-4534-a4a7-6f7e1698e50c",
        "colab": {
          "base_uri": "https://localhost:8080/",
          "height": 190
        }
      },
      "source": [
        "!pip install -U nltk\n",
        "!pip install contractions\n"
      ],
      "execution_count": null,
      "outputs": [
        {
          "output_type": "stream",
          "text": [
            "Requirement already up-to-date: nltk in /usr/local/lib/python3.6/dist-packages (3.5)\n",
            "Requirement already satisfied, skipping upgrade: joblib in /usr/local/lib/python3.6/dist-packages (from nltk) (0.16.0)\n",
            "Requirement already satisfied, skipping upgrade: click in /usr/local/lib/python3.6/dist-packages (from nltk) (7.1.2)\n",
            "Requirement already satisfied, skipping upgrade: regex in /usr/local/lib/python3.6/dist-packages (from nltk) (2019.12.20)\n",
            "Requirement already satisfied, skipping upgrade: tqdm in /usr/local/lib/python3.6/dist-packages (from nltk) (4.41.1)\n",
            "Requirement already satisfied: contractions in /usr/local/lib/python3.6/dist-packages (0.0.25)\n",
            "Requirement already satisfied: textsearch in /usr/local/lib/python3.6/dist-packages (from contractions) (0.0.17)\n",
            "Requirement already satisfied: pyahocorasick in /usr/local/lib/python3.6/dist-packages (from textsearch->contractions) (1.4.0)\n",
            "Requirement already satisfied: Unidecode in /usr/local/lib/python3.6/dist-packages (from textsearch->contractions) (1.1.1)\n"
          ],
          "name": "stdout"
        }
      ]
    },
    {
      "cell_type": "markdown",
      "metadata": {
        "id": "UNdLcCH9hpYX"
      },
      "source": [
        "Then we read and load data."
      ]
    },
    {
      "cell_type": "code",
      "metadata": {
        "id": "CDIzMEQ0sMqK",
        "outputId": "0344f5e7-1786-47af-ca9f-439199aa2bb6",
        "colab": {
          "base_uri": "https://localhost:8080/",
          "height": 187
        }
      },
      "source": [
        "import os\n",
        "import io\n",
        "import re\n",
        "import pandas as pd\n",
        "from nltk import word_tokenize, sent_tokenize, wordpunct_tokenize\n",
        "from nltk.tag.perceptron import PerceptronTagger\n",
        "from nltk.stem import WordNetLemmatizer\n",
        "from nltk.corpus import wordnet, stopwords\n",
        "from sklearn.feature_extraction.text import CountVectorizer, TfidfTransformer\n",
        "from sklearn.naive_bayes import MultinomialNB\n",
        "import contractions\n",
        "from functools import reduce\n",
        "from collections import defaultdict\n",
        "import nltk\n",
        "import math\n",
        "import csv\n",
        "nltk.download('punkt')\n",
        "nltk.download('wordnet')\n",
        "nltk.download('stopwords')\n",
        "nltk.download('averaged_perceptron_tagger')\n",
        "\n",
        "root_path = os.path.join(os.getcwd(), \"drive\", \"My Drive/CS5740/P1\") # replace based on your Google drive organization\n",
        "dataset_path = os.path.join(root_path, \"news_dataset\") # same here\n",
        "\n",
        "with io.open(os.path.join(dataset_path, \"trueDataTrain.txt\"), encoding='utf8') as real_file:\n",
        "  real_news = real_file.read()\n",
        "  \n",
        "with io.open(os.path.join(dataset_path, \"trueDataValidation.txt\"), encoding='utf8') as real_file:\n",
        "  real_news_validation = real_file.read()\n",
        "\n",
        "with io.open(os.path.join(dataset_path, \"fakeDataTrain.txt\"), encoding='utf8') as fake_file:\n",
        "  fake_news = fake_file.read()\n",
        "\n",
        "with io.open(os.path.join(dataset_path, \"fakeDataValidation.txt\"), encoding='utf8') as fake_file:\n",
        "  fake_news_validation = fake_file.read()\n",
        "\n"
      ],
      "execution_count": null,
      "outputs": [
        {
          "output_type": "stream",
          "text": [
            "[nltk_data] Downloading package punkt to /root/nltk_data...\n",
            "[nltk_data]   Package punkt is already up-to-date!\n",
            "[nltk_data] Downloading package wordnet to /root/nltk_data...\n",
            "[nltk_data]   Package wordnet is already up-to-date!\n",
            "[nltk_data] Downloading package stopwords to /root/nltk_data...\n",
            "[nltk_data]   Package stopwords is already up-to-date!\n",
            "[nltk_data] Downloading package averaged_perceptron_tagger to\n",
            "[nltk_data]     /root/nltk_data...\n",
            "[nltk_data]   Package averaged_perceptron_tagger is already up-to-\n",
            "[nltk_data]       date!\n"
          ],
          "name": "stderr"
        }
      ]
    },
    {
      "cell_type": "markdown",
      "metadata": {
        "id": "miP2sevQbPbs"
      },
      "source": [
        "Sanity checks for our real and fake training sets"
      ]
    },
    {
      "cell_type": "markdown",
      "metadata": {
        "id": "ok_0NzjkDrde"
      },
      "source": [
        "## 1.3 Data Preprocessing & Preparation\n",
        "\n",
        "There's a well-known parable in machine learning that 80% of the work is all about data preparation, 10% is supporting infrastructure and 10% is actual modeling. If your \"raw\" dataset is not preprocessed and prepared in a way to maximize its value, then your model will be more like this: https://xkcd.com/1838/. For this project, modeling is the star of the show for learning purposes, but we still want you to pay attention to the preprocessing stage.\n",
        "\n",
        "*We've already tokenized and lowercased* the raw data for you. Here are a few extra things you might want to do:\n",
        "\n",
        "- Think about edge cases. For example, you don't want to accidentally append a period to the last word of a sentence. \n",
        "- Watch out for apostrophes and other tricky things like quotations, they cause lots of edge cases. For example, \"they're\" can be all one token, or two tokens (\"they\", \"'re\") or even three tokens (\"they\", \" ' \", \"re\"). \n",
        "\n",
        "Why did we lowercase all tokens? Because the computer will otherwise consider \"The\" and \"the\" as two separate words and this will cause problems.\n",
        "\n",
        "Note that you may use existing\n",
        "tools just for the purpose of preprocessing. \n",
        "\n",
        "Advice: don't get bugged down in the dozens of preprocessing packages and suggestions that you can find on Towards Data Science or Stack Overflow. Start with this [NLTK tutorial](https://lost-contact.mit.edu/afs/cs.pitt.edu/projects/nltk/docs/tutorial/introduction/nochunks.html#:~:text=The%20Natural%20Language%20Toolkit%20(NLTK,tokenization%2C%20tagging%2C%20and%20parsing.) and that should be plenty."
      ]
    },
    {
      "cell_type": "code",
      "metadata": {
        "id": "Pf2phKs8bvaB"
      },
      "source": [
        "# TODO: preprocessing\n",
        "\n",
        "lemmatizer = WordNetLemmatizer()\n",
        "tagger = PerceptronTagger()\n",
        "stop_words = set(stopwords.words('english'))\n",
        "\n",
        "def clean(s):\n",
        "  s = re.sub(r'http\\S*|\\S*.(com|net)', '', s)\n",
        "  s = s.lower()\n",
        "  s = contractions.fix(s)\n",
        "  return s\n",
        "\n",
        "def lemmatize(w, tag):\n",
        "  t = wordnet.NOUN\n",
        "  if tag[0] == 'J':\n",
        "    t = wordnet.ADJ\n",
        "  if tag[0] == 'V':\n",
        "    t = wordnet.VERB\n",
        "  if tag[0] == 'R':\n",
        "    t = wordnet.ADV\n",
        "  return lemmatizer.lemmatize(w, t)\n",
        "\n",
        "def preprocess(raw_text, start_end=False):\n",
        "  \"\"\"Preprocess raw_text returning list of tokens. If start_end is True,\n",
        "  there are markers for start and end of sentences in the token list\"\"\"\n",
        "  def passes_filter(w):\n",
        "    # if (not w.isalpha()):\n",
        "    #   return False \n",
        "    return True\n",
        "    \n",
        "  token_lst = []\n",
        "  for sent in sent_tokenize(raw_text):\n",
        "    sentence = clean(sent)\n",
        "    if start_end:\n",
        "      token_lst.append('<s>')\n",
        "    for word in wordpunct_tokenize(sentence):\n",
        "      if passes_filter(word):\n",
        "        token_lst.append(word.lower())\n",
        "    if start_end:\n",
        "      token_lst.append('</s>')\n",
        "  return token_lst\n",
        "\n",
        "\n",
        "tokenized_real_news_training = preprocess(real_news, start_end=True)\n",
        "tokenized_fake_news_training = preprocess(fake_news, start_end=True)\n",
        "tokenized_real_news_validation = preprocess(real_news_validation, start_end=True)\n",
        "tokenized_fake_news_validation = preprocess(fake_news_validation, start_end=True)\n"
      ],
      "execution_count": null,
      "outputs": []
    },
    {
      "cell_type": "markdown",
      "metadata": {
        "id": "IEab9h6xpuhx"
      },
      "source": [
        "**Q1.1: Show some observations or statistics from the dataset** (should be quantitative – i.e. most frequent words, most frequent bigram, etc.)\n",
        "\n",
        "Your answer:"
      ]
    },
    {
      "cell_type": "code",
      "metadata": {
        "id": "9MQq0uNnqWmR",
        "outputId": "58204a01-b3cb-4dab-d0cf-268469d1b418",
        "colab": {
          "base_uri": "https://localhost:8080/",
          "height": 1000
        }
      },
      "source": [
        "# TODO: observations/statistics\n",
        "num_tokens_train_real = len(tokenized_real_news_training)\n",
        "num_tokens_train_fake = len(tokenized_fake_news_training)\n",
        "num_tokens_val_real = len(tokenized_real_news_validation)\n",
        "num_tokens_val_fake = len(tokenized_fake_news_validation)\n",
        "\n",
        "print('real_train size ', num_tokens_train_real)\n",
        "print('fake_train size ', num_tokens_train_fake)\n",
        "print('real_val size ', num_tokens_val_real)\n",
        "print('fake_val size ', num_tokens_val_fake)\n",
        "print('\\n')\n",
        "\n",
        "fdist_counts = nltk.FreqDist(tokenized_fake_news_training)\n",
        "print('Most frequent unigrams')\n",
        "print(*fdist_counts.most_common(10), sep='\\n')\n",
        "print('\\n')\n",
        "\n",
        "least_counts = nltk.FreqDist(dict(fdist_counts.most_common()[-200:]))\n",
        "print('Least frequent unigrams')\n",
        "print(*least_counts.most_common(10), sep='\\n')\n",
        "print('\\n')\n",
        "\n",
        "fdist_bigrams = nltk.FreqDist(nltk.bigrams(tokenized_fake_news_training))\n",
        "print('Most frequent bigrams')\n",
        "print(*fdist_bigrams.most_common(10), sep='\\n')\n",
        "print('\\n')\n",
        "\n",
        "fdist_len = nltk.FreqDist([len(w) for w in tokenized_fake_news_training])\n",
        "#print(*fdist_len.most_common(20), sep='\\n')\n",
        "print('Word length count')\n",
        "nltk.FreqDist(dict(fdist_len.most_common(20))).plot()\n",
        "print('\\n')\n",
        "\n",
        "\n"
      ],
      "execution_count": null,
      "outputs": [
        {
          "output_type": "stream",
          "text": [
            "real_train size  7155207\n",
            "fake_train size  8494604\n",
            "real_val size  2034517\n",
            "fake_val size  2371609\n",
            "\n",
            "\n",
            "Most frequent unigrams\n",
            "('the', 379090)\n",
            "(',', 340690)\n",
            "('.', 321819)\n",
            "('<s>', 232437)\n",
            "('</s>', 232437)\n",
            "('to', 202693)\n",
            "('of', 165620)\n",
            "('and', 158484)\n",
            "('a', 148661)\n",
            "('in', 119594)\n",
            "\n",
            "\n",
            "Least frequent unigrams\n",
            "('trifled', 1)\n",
            "('snoke', 1)\n",
            "('lummis', 1)\n",
            "('steampunk', 1)\n",
            "('cogs', 1)\n",
            "('cheneys', 1)\n",
            "('indio', 1)\n",
            "('berniechella', 1)\n",
            "('ozomatli', 1)\n",
            "('summey', 1)\n",
            "\n",
            "\n",
            "Most frequent bigrams\n",
            "(('</s>', '<s>'), 232436)\n",
            "(('.', '</s>'), 205725)\n",
            "(('of', 'the'), 37609)\n",
            "(('in', 'the'), 27664)\n",
            "((',', 'and'), 26336)\n",
            "((',', 'the'), 20365)\n",
            "(('to', 'the'), 19210)\n",
            "(('<s>', 'the'), 19118)\n",
            "(('?', '</s>'), 14370)\n",
            "(('on', 'the'), 13055)\n",
            "\n",
            "\n",
            "Word length count\n"
          ],
          "name": "stdout"
        },
        {
          "output_type": "display_data",
          "data": {
            "image/png": "[encoded data removed]",
            "text/plain": [
              "<Figure size 432x288 with 1 Axes>"
            ]
          },
          "metadata": {
            "tags": [],
            "needs_background": "light"
          }
        },
        {
          "output_type": "stream",
          "text": [
            "\n",
            "\n"
          ],
          "name": "stdout"
        }
      ]
    },
    {
      "cell_type": "markdown",
      "metadata": {
        "id": "rcw8M5nesOQD"
      },
      "source": [
        "**Please answer the following question**:\n",
        "\n",
        "**Q1.2: What did you do in your preprocessing part?**\n"
      ]
    },
    {
      "cell_type": "markdown",
      "metadata": {
        "id": "zQVi0l76MBcs"
      },
      "source": [
        "\n",
        "Your answer:\n",
        "\n",
        "Reference: https://medium.com/analytics-vidhya/text-preprocessing-for-nlp-natural-language-processing-beginners-to-master-fd82dfecf95\n",
        "\n",
        "- We removed urls from text since this is just noise and doesn't give clues to whether a news articlemis fake or real\n",
        "- We also expanded contractions so that similar words aren't treated as different\n",
        "- We also split words joined by separators into distinct words so that they can match with the individual words\n",
        "- We tried removing punctuations and digits but model performed worse\n",
        "- We also tried position tagging before lemmatization so that lemmatization is more accurate and words with similar lemma are matched but model performed worse\n",
        "- We also tried removing stop words but the models performed worse so we left it out\n"
      ]
    },
    {
      "cell_type": "markdown",
      "metadata": {
        "id": "d8oo9zHrsYBD"
      },
      "source": [
        "# Part 2: Compute Unsmoothed Language Models.\n",
        "\n",
        "To start, you will write a program that computes unsmoothed unigram and bigram probabilities. You should consider real and fake news as separate corpora and\n",
        "generate a separate language model for each set of news.\n",
        "We have already loaded the data and (partially) preprocessed it and you probably did some of your own preprocessing. \n",
        "\n",
        "Note that you were allowed to use existing\n",
        "tools for the purpose of preprocessing, but you must write the code for gathering n-gram counts and computing n-gram probabilities yourself. \n",
        "\n",
        "For example, consider the\n",
        "simple corpus consisting of the sole sentence:\n",
        "\n",
        "\n",
        "> the students liked the assignment\n",
        "\n",
        "Part of what your program would compute for a unigram and bigram model, for example,\n",
        "would be the following:\n",
        "\n",
        "\n",
        "> $P(\"the\") = 0.4; P(\"liked\") = 0.2; P(\"the\"|\"liked\") = 1.0; P(\"students\"|\"the\") = 0.5$\n",
        "\n",
        "Remember to add a symbol to mark the beginning of sentence. See Sept. 7th lecture, p25-28 for an example.\n",
        "\n",
        "\n"
      ]
    },
    {
      "cell_type": "markdown",
      "metadata": {
        "id": "IgdpbCKw8B0r"
      },
      "source": [
        "**Advice**: jupyter notebooks (including colab) can be a double-edged sword. It's amazing and liberating to just start writing code and run it by simply running a cell. However, it gets messy very quickly. So, once you're done prototyping, we highly recommend using functions (classes may be unnecessary but go for it if you want) to make things cleaner and easier to debug."
      ]
    },
    {
      "cell_type": "markdown",
      "metadata": {
        "id": "MqkMkZIkst8i"
      },
      "source": [
        "## 2.1 Unsmoothed Uni-gram Model.\n",
        "\n",
        "In this part of the project, you are trying to compute the probabilities for a unigram model. You might want to take in a list of words, and return the probabilities for each\n",
        "occurence. Think of an efficient data structure to use here given what ratio of reads and puts you expect.\n",
        "\n",
        "Please look at the example above and consider how we get the probabilities.\n",
        "\n",
        "Below is a starter point you can go from, but you DO NOT need to stick it. Feel free to use your own design."
      ]
    },
    {
      "cell_type": "code",
      "metadata": {
        "id": "aSpCXMDUs3Xs"
      },
      "source": [
        "\"\"\"\n",
        "Reference code for start. You do not need to follow this.\n",
        "Function [unsmoothed_unigram] computes the probabilities for a unigram model\n",
        "lst: a list of words in a sentence\n",
        "Return: [data structure of your choice] that stores the result\n",
        "\"\"\"\n",
        "\n",
        "def unigram_counts(lst):\n",
        "  # TODO\n",
        "  dict_of_words = {}\n",
        "  l = len(lst)\n",
        "  for word in lst:\n",
        "    if word in dict_of_words:\n",
        "      dict_of_words[word] += 1\n",
        "    else:\n",
        "      dict_of_words[word] = 1\n",
        "  return (dict_of_words, l)\n",
        "    \n"
      ],
      "execution_count": null,
      "outputs": []
    },
    {
      "cell_type": "markdown",
      "metadata": {
        "id": "cuyn_xPjs4TR"
      },
      "source": [
        "## 2.2 Unsmoothed Bi-gram Model.\n",
        "\n",
        "In this part of the project, you are trying to compute the probabilities for a bigram model. You can approach this with similar methods as above.\n",
        "\n",
        "Remember the definition:\n",
        "$p(w_n\\mid w_{n-1})=\\frac{C(w_{n-1}w_n)}{C(w_{n-1})}$ this means you might want to store two things (count of $w_{n-1}$ and count of $w_{n-1}w_n$)."
      ]
    },
    {
      "cell_type": "code",
      "metadata": {
        "id": "j7opVGtks_kY"
      },
      "source": [
        "# TODO: Add code for bigram probability calculation. \n",
        "\n",
        "\n",
        "def bigram_counts(lst):\n",
        "  bigram_dict = {}\n",
        "  for i in range(len(lst)-1):\n",
        "    word1, word2 = lst[i], lst[i+1]\n",
        "    bigram = (word1, word2)\n",
        "    if bigram in bigram_dict:\n",
        "      bigram_dict[bigram] += 1\n",
        "    else:\n",
        "      bigram_dict[bigram] = 1\n",
        "  return bigram_dict"
      ],
      "execution_count": null,
      "outputs": []
    },
    {
      "cell_type": "markdown",
      "metadata": {
        "id": "ejmIJWSVwRJG"
      },
      "source": [
        "**Please answer the following question**:\n",
        "\n",
        "**Q2: What data structure are you using to store probabilities for unigrams and bigrams? Why did you select this data structure?**\n",
        "\n",
        "Your answer:\n",
        "\n",
        "A dictionary because it offers constant time lookups"
      ]
    },
    {
      "cell_type": "markdown",
      "metadata": {
        "id": "miWWgYxZtAZu"
      },
      "source": [
        "# Part 3: Smoothed Language Model\n",
        "In this part, you will need to implement **at least one** smoothing method and **at least one** method to handle unknown words in the test data. You can choose any method(s) that you want for each. You should make clear\n",
        "**what method(s)** were selected and **why**, providing a description for any non-standard approach (e.g., an approach that was not covered in class or in the readings). \n",
        "\n",
        "You should use the\n",
        "provided validation sets to experiment with different smoothing/unknown word handling\n",
        "methods if you wish to see which one is more effective for this task. (We will cover this in Part 4)."
      ]
    },
    {
      "cell_type": "markdown",
      "metadata": {
        "id": "SfiAOKfEuMGy"
      },
      "source": [
        "## 3.1 Unknown Words Handling\n",
        "\n",
        "**Please answer the following questions:**\n",
        "\n",
        "**Q3.1: How are you going to handle unknown words? What parameters might be needed? Do you need a method to determine the value?**\n",
        "\n",
        "Your answer:\n",
        "\n",
        "We set words occuring less than k times in the training set to unk. We determined good value for k by testing against the validation set\n"
      ]
    },
    {
      "cell_type": "code",
      "metadata": {
        "id": "Clxc3I-dLdUQ"
      },
      "source": [
        "def words_lt_k_counts(lst, k):\n",
        "  \"\"\"Returns words in lst whose counts are at least k\"\"\"\n",
        "  fdist_counts = nltk.FreqDist(lst)\n",
        "  filtered = set(filter(lambda elt: fdist_counts[elt] < k, fdist_counts.keys()))\n",
        "  return filtered\n"
      ],
      "execution_count": null,
      "outputs": []
    },
    {
      "cell_type": "code",
      "metadata": {
        "id": "OF8ktPAouR_F"
      },
      "source": [
        "# TODO: Add your unknown word handling code \n",
        "def replace(lst, k):\n",
        "  to_replace = words_lt_k_counts(lst,k)\n",
        "  return list(map(lambda w: 'unk' if w in to_replace else w, lst))\n"
      ],
      "execution_count": null,
      "outputs": []
    },
    {
      "cell_type": "markdown",
      "metadata": {
        "id": "aRGK0_x_t46P"
      },
      "source": [
        "## 3.2 Smoothing\n",
        "\n",
        "In this part of project, we are going to compute the probabilities for unigram and bigram models after smoothing.\n",
        "There are several smoothing methods you can start with:\n",
        "* add-k\n",
        "* Kneser-Ney\n",
        "* Good-Turing\n",
        "* ...\n",
        "\n",
        "You need to compute for both unigram and bigram models.\n",
        "\n",
        "Below is a starter point using add-k smoothing. As always, you DO NOT need to follow it; you DO NOT need to use add-k smoothing if you do not want to. You can pick ANY smoothing method you want."
      ]
    },
    {
      "cell_type": "code",
      "metadata": {
        "id": "nmW8G3mqt-5z"
      },
      "source": [
        "\"\"\"\n",
        "Reference code for add-k smoothing on unigram model.\n",
        "dic: a dictionary of your unigrams. key: words, val: occurence\n",
        "k: parameter k for smoothing\n",
        "Return: a dictionary of results after smoothing\n",
        "\"\"\"\n",
        "\n",
        "#We ended up not using the function below. Instead, we do smoothing at the same \n",
        "#time we are calculating probabilities because it was efficient that way\n",
        "def add_k_unigram(dic, k):\n",
        "  # TODO\n",
        "  for word in dic.keys():\n",
        "    dic[key] += k\n"
      ],
      "execution_count": null,
      "outputs": []
    },
    {
      "cell_type": "code",
      "metadata": {
        "id": "Szs3zqwSFDEY"
      },
      "source": [
        "\"\"\"\n",
        "Reference code for add-k smoothing on bigram model.\n",
        "uni_dic: a dictionary of your unigrams.\n",
        "bi_dic: a dictionary of your bigrams.\n",
        "k: parameter k for smoothing\n",
        "Return: a dictionary of results after smoothing\n",
        "\"\"\"\n",
        "\n",
        "#We ended up not using the function below. Instead, we do smoothing at the same \n",
        "#time we are calculating probabilities because it was efficient that way\n",
        "def add_k_bigram(uni_dic, bi_dic, k):\n",
        "  # TODO\n",
        "  for bigram in bi_dic.keys():\n",
        "    bi_dic[bigram] += k\n",
        "    word1, word2 = bigram\n"
      ],
      "execution_count": null,
      "outputs": []
    },
    {
      "cell_type": "markdown",
      "metadata": {
        "id": "AbHkdI7-t_7D"
      },
      "source": [
        "**Please answer the following question:**\n",
        "\n",
        "**Q3.2: Which smoothing method did you choose? Are there any parameters, if so how are you planning to pick the value? If you choose to implement more than 1 method (not a requirement), please state each of them. Providing a description for any non-standard approach, e.g., an approach that was not covered in class or in the readings**\n",
        "\n",
        "Your answer:\n",
        "\n",
        "We used add-k smoothing. We tried different values of k between 0 and 1 and set the value that gave better results on the validation set"
      ]
    },
    {
      "cell_type": "markdown",
      "metadata": {
        "id": "ML03appeuSm3"
      },
      "source": [
        "# Part 4: Perplexity\n",
        "At this point, we have developed several language models: unigram vs bigram, unsmoothed vs smoothed. We now want to compare all the models. \n",
        "\n",
        "Implement code to compute the perplexity of a **“development set.”** (“Development set”\n",
        "is just another way to refer to the validation set—part of a dataset that is distinct from\n",
        "the training portion and the test portion.) Compute and report the perplexity of each\n",
        "of the language models (one trained on true news and fake news) on\n",
        "the development corpora. Compute perplexity as follows:\n",
        "\\begin{align*}\n",
        "PP &= \\left(\\prod_i^N\\frac{1}{P\\left(W_i\\mid W_{i-1}, ...W_{i-n+1}\\right)}\\right)^{\\frac{1}{N}}\\\\\n",
        "&=\\exp \\frac{1}{N}\\sum_{i}^N-\\log P\\left(W_i\\mid W_{i-1}, ...W_{i-n+1}\\right)\n",
        "\\end{align*}\n",
        "where $N$ is the total number of tokens in the test corpus and $P\\left(W_i\\mid W_{i-1}, ...W_{i-n+1}\\right)$\n",
        "is the n-gram probability of your model. Under the second definition above, perplexity\n",
        "is a function of the average (per-word) log probability: use this to avoid numerical\n",
        "computation errors.\n",
        "\n",
        "Please complete the following tasks and report what you have observed. Remember, lower perplexity means better model."
      ]
    },
    {
      "cell_type": "markdown",
      "metadata": {
        "id": "aT1IRyohJw7e"
      },
      "source": [
        "## Task 1: Compute perplexity for smoothed unigram and smoothed bigram. \n",
        "*Note: If you choose more than one smoothing method, pick one of them to compute. If you need to try different values of parameters, you can try them out here.*\n"
      ]
    },
    {
      "cell_type": "code",
      "metadata": {
        "id": "WFFj7XqDKXfX"
      },
      "source": [
        "# TODO: compute perplexity for one smoothing method on unigram, and one smoothing method on bigram.\n",
        "\n",
        "def perplexity(ds, prob_func, k, model):\n",
        "  \"\"\"Calculates perplexity on dataset ds using probability function prob_func\n",
        "     that takes model and uses  k-smoothing\"\"\"\n",
        "  n = len(ds)\n",
        "  log_probs = 0\n",
        "  for i in range(n):\n",
        "    p = prob_func(ds, i, k, model)\n",
        "    log_probs += math.log(p)*-1\n",
        "  return math.exp(log_probs/n)\n",
        "\n",
        "def unigram_prob(ds, ind, k, uni_model):\n",
        "  \"\"\"Calculates unigram probability of ds[ind] using uni_model and k smoothing\"\"\"\n",
        "  counts,num_tokens = uni_model\n",
        "  word = ds[ind] \n",
        "  if word in counts:\n",
        "    c = counts[word]\n",
        "  else:\n",
        "    c = counts['unk']\n",
        "  v = len(counts)\n",
        "  return (c+k)/(num_tokens + k*v)\n",
        "\n",
        "def bigram_prob(ds, ind, k, bi_model):\n",
        "  \"\"\"Calculates bigram probability of ds[ind] using uni_model and k smoothing\"\"\"\n",
        "  bi_counts, uni_model = bi_model\n",
        "  uni_counts, num_tokens = uni_model\n",
        "  if ind > 0:\n",
        "    bigram = (ds[ind-1], ds[ind])\n",
        "  else:\n",
        "    bigram = ('<s>', ds[ind]) \n",
        "  if bigram[0] not in uni_counts:\n",
        "    bigram = ('unk', bigram[1])\n",
        "  if bigram[1] not in uni_counts:\n",
        "    bigram = (bigram[0], 'unk')\n",
        "  c = 0\n",
        "  if bigram in bi_counts:\n",
        "    c = bi_counts[bigram]  \n",
        "  v = len(uni_counts)\n",
        "  d = k*v + uni_counts[bigram[0]]\n",
        "  return (c+k)/d\n",
        "\n",
        "unk = 10  #uknown threshold\n",
        "\n",
        "r_news_unimodel = unigram_counts(replace(tokenized_real_news_training,unk))  \n",
        "f_news_unimodel = unigram_counts(replace(tokenized_fake_news_training,unk))\n",
        "\n",
        "r_news_bigrams = bigram_counts(replace(tokenized_real_news_training,unk))\n",
        "f_news_bigrams = bigram_counts(replace(tokenized_fake_news_training,unk))\n"
      ],
      "execution_count": null,
      "outputs": []
    },
    {
      "cell_type": "code",
      "metadata": {
        "id": "OF23B83OoAVK",
        "outputId": "92472a19-fbca-4287-8a53-ce689d30cb05",
        "colab": {
          "base_uri": "https://localhost:8080/",
          "height": 85
        }
      },
      "source": [
        "r_news_uni_pp = perplexity(tokenized_real_news_validation, unigram_prob, 0.05, r_news_unimodel)\n",
        "r_news_bi_pp = perplexity(tokenized_real_news_validation, bigram_prob, 0.05, (r_news_bigrams, r_news_unimodel))\n",
        "f_news_uni_pp = perplexity(tokenized_fake_news_validation, unigram_prob, 0.05, f_news_unimodel)\n",
        "f_news_bi_pp = perplexity(tokenized_fake_news_validation, bigram_prob, 0.05, (f_news_bigrams, f_news_unimodel))\n",
        "\n",
        "\n",
        "rf_news_uni_pp = perplexity(tokenized_real_news_validation, unigram_prob, 0.05, f_news_unimodel)\n",
        "rf_news_bi_pp = perplexity(tokenized_real_news_validation, bigram_prob, 0.05, (f_news_bigrams, f_news_unimodel))\n",
        "fr_news_uni_pp = perplexity(tokenized_fake_news_validation, unigram_prob, 0.05, r_news_unimodel)\n",
        "fr_news_bi_pp = perplexity(tokenized_fake_news_validation, bigram_prob, 0.05, (r_news_bigrams, r_news_unimodel))\n",
        "\n",
        "print('real uni pp ', round(r_news_uni_pp), round(rf_news_uni_pp))\n",
        "print('real bi pp ', round(r_news_bi_pp), round(rf_news_bi_pp))\n",
        "print('fake uni pp ', round(f_news_uni_pp), round(fr_news_uni_pp))\n",
        "print('fake bi pp ', round(f_news_bi_pp), round(fr_news_bi_pp))"
      ],
      "execution_count": null,
      "outputs": [
        {
          "output_type": "stream",
          "text": [
            "real uni pp  716 781\n",
            "real bi pp  146 273\n",
            "fake uni pp  795 830\n",
            "fake bi pp  192 347\n"
          ],
          "name": "stdout"
        }
      ]
    },
    {
      "cell_type": "code",
      "metadata": {
        "id": "kiVMF94iPkkH",
        "outputId": "bc01084a-6b6c-43ba-dd5d-47898985ae2c",
        "colab": {
          "base_uri": "https://localhost:8080/",
          "height": 34
        }
      },
      "source": [
        "def ngram_val_error(k):\n",
        "  misclassified = 0\n",
        "  total = 0\n",
        "  with io.open(os.path.join(dataset_path, \"fakeDataValidation.txt\"), encoding='utf8') as fake_file:\n",
        "    for news in fake_file:\n",
        "      total += 1\n",
        "      tokenized_news = preprocess(news, start_end=True)\n",
        "      pred = 0\n",
        "      if len(tokenized_news) > 0:  \n",
        "        r_news_pp = perplexity(tokenized_news, bigram_prob, k, (r_news_bigrams, r_news_unimodel))\n",
        "        f_news_pp = perplexity(tokenized_news, bigram_prob, k, (f_news_bigrams, f_news_unimodel))\n",
        "        if r_news_pp < f_news_pp:\n",
        "          pred = 1\n",
        "      if pred != 0:\n",
        "        misclassified += 1\n",
        "\n",
        "  with io.open(os.path.join(dataset_path, \"trueDataValidation.txt\"), encoding='utf8') as real_file:\n",
        "    for news in real_file:\n",
        "      total += 1\n",
        "      tokenized_news = preprocess(news, start_end=True)\n",
        "      pred = 0\n",
        "      if len(tokenized_news) > 0:  \n",
        "        r_news_pp = perplexity(tokenized_news, bigram_prob, k, (r_news_bigrams, r_news_unimodel))\n",
        "        f_news_pp = perplexity(tokenized_news, bigram_prob, k, (f_news_bigrams, f_news_unimodel))\n",
        "        if r_news_pp < f_news_pp:\n",
        "          pred = 1\n",
        "      if pred != 1:\n",
        "        misclassified += 1\n",
        "  return misclassified/total  * 100\n",
        "\n",
        "print(ngram_val_error(0.01))"
      ],
      "execution_count": null,
      "outputs": [
        {
          "output_type": "stream",
          "text": [
            "1.091314031180401\n"
          ],
          "name": "stdout"
        }
      ]
    },
    {
      "cell_type": "markdown",
      "metadata": {
        "id": "QbxTiHHh7Lwc"
      },
      "source": [
        "**Q4.1: Why do we need to compute perplexity after smoothing?**\n",
        "\n",
        "Your answer:\n",
        "\n",
        "Because to determine perplexity we need to multiply probabilities, if one of them is zero, the result becomes zero. So we need to smooth first to prevent this from happening\n",
        "\n",
        "**Q4.2: Did you choose any values for parameters?**\n",
        "\n",
        "Your answer:\n",
        "\n",
        "We determined optimal values for the unknown words threshold by testing against the validation set. We used a similar procedure to determine value for add-k smoothing"
      ]
    },
    {
      "cell_type": "markdown",
      "metadata": {
        "id": "RQxfllB0KfKf"
      },
      "source": [
        "## Task 2: Compute perplexity for other smoothing methods (optional). \n",
        "*Note: If you only pick one smoothing method, you can omit this task. If you need to try different values of parameters, you can try them out here.*"
      ]
    },
    {
      "cell_type": "code",
      "metadata": {
        "id": "5fU-sCOYK_xI"
      },
      "source": [
        "# TODO: compute perplexity for your rest of smoothing method."
      ],
      "execution_count": null,
      "outputs": []
    },
    {
      "cell_type": "markdown",
      "metadata": {
        "id": "VaALsOnk7FZJ"
      },
      "source": [
        "**Q4.3: If your smoothing method needs to pick a parameter, what is the value of your parameter?**\n",
        "\n",
        "Your answer:\n",
        "\n",
        "**Q4.4: Which smoothing method is the best among your choices?**\n",
        "\n",
        "Your answer:"
      ]
    },
    {
      "cell_type": "markdown",
      "metadata": {
        "id": "JKH7JpZWvdP5"
      },
      "source": [
        "# Part 5: Putting Everything Together and Submitting to Kaggle\n",
        "Combining all the previous parts together, we have developed a bunch of language models. Before we proceed to the next step, let's check a few things (no need to answer):\n",
        "* Did you train your model only on training set?\n",
        "* Did you validate your model only on validation/development set?\n",
        "* Did you determine all your parameters?\n",
        "\n",
        "Finally, please answer:\n",
        "\n",
        "**Q5: What is your choice of language model, and why?**\n",
        "\n",
        "Your answer:\n",
        "\n",
        "We chose the bigram model because it gave lower perplexity values compared to the unigram model\n",
        "\n"
      ]
    },
    {
      "cell_type": "code",
      "metadata": {
        "id": "ukEVlpFow6mz"
      },
      "source": [
        "# TODO: anything that helps you answer/check the above points."
      ],
      "execution_count": null,
      "outputs": []
    },
    {
      "cell_type": "markdown",
      "metadata": {
        "id": "E7bWKZQjv2Ht"
      },
      "source": [
        "## Part 5.1: First Model Submission to Kaggle\n",
        "\n",
        "Now we need to apply our model to testing data. What you need to do:\n",
        "* Takes the test data as input, and generates an output of your prediction based on your chosen language model\n",
        "* Your output file should be ONLY your predictions\n",
        "* Submit to Kaggle\n",
        "\n",
        "You should use your trained model to predict labels for all the news in `TestData.txt`. Output your predictions to a **csv** file and submit it to kaggle. Each line should contain the id of the test news and its corresponding prediction (in total 4489 lines). In other words, your output should look like (**including the header**):\n",
        "```\n",
        "Id,Prediction\n",
        "0,0\n",
        "1,0\n",
        "2,1\n",
        "3,0\n",
        "...\n",
        "4488,1\n",
        "```\n",
        "Note that you should add the header `Id,Prediction` and there is no space in the output. The Id starts from 0 (not 1).\n",
        "\n",
        "Use this kaggle [link](https://www.kaggle.com/t/a032d54898b24b4bb2f29e7165ac5fdf) to submit your output. Your team name should be the concatenation of your netids, **exactly in the same order as this notebook is named**. For example, if notebook is 4740_FA20_p1_jb123_cj456, then Kaggle group should be jb123_cj456.\n"
      ]
    },
    {
      "cell_type": "code",
      "metadata": {
        "id": "wqECbQs7wDFr"
      },
      "source": [
        "# TODO: Add code to generate the Kaggle output file and submit the output file to Kaggle\n",
        "with io.open(os.path.join(dataset_path, \"TestData.txt\"), encoding='utf8') as test_file:\n",
        "  with io.open(os.path.join(dataset_path, \"preds_lm.csv\"), 'w', newline='') as out:\n",
        "    writer = csv.writer(out)\n",
        "    writer.writerow(['Id', 'Prediction'])\n",
        "    count = 0\n",
        "    for news in test_file:\n",
        "      tokenized_news = preprocess(news, start_end=True)\n",
        "      pred = 0\n",
        "      if len(tokenized_news) > 0:  \n",
        "        r_news_pp = perplexity(tokenized_news, bigram_prob, 0.01, (r_news_bigrams, r_news_unimodel))\n",
        "        f_news_pp = perplexity(tokenized_news, bigram_prob, 0.01, (f_news_bigrams, f_news_unimodel))\n",
        "        if r_news_pp < f_news_pp:\n",
        "          pred = 1\n",
        "      writer.writerow([count, pred])\n",
        "      count += 1"
      ],
      "execution_count": null,
      "outputs": []
    },
    {
      "cell_type": "markdown",
      "metadata": {
        "id": "uBtISMsewD4e"
      },
      "source": [
        "# Part 6: Naive Bayes\n",
        "\n",
        "The Naive Bayes classification method is based on Bayes Rule. Suppose we have a news article *d* and its label *c* (either 0 or 1).\n",
        "\\begin{align*}\n",
        "P(c|d)=\\frac{P(d|c)P(c)}{P(d)}\n",
        "\\end{align*}\n",
        "Likelihood: $P(d|c)$. In real/fake corpus, how likely *d* would appear.\n",
        "\n",
        "Prior: $P(c)$. The probability of real/fake news in general.\n",
        "\n",
        "Posterior: $P(c|d)$. Given *d*, how likely is it that it is real/fake.\n",
        "\n",
        "Goal: $\\underset{c\\in \\{0,1\\}}{\\operatorname{argmax}} P(c|d)$, which is equivalent to $\\underset{c\\in \\{0,1\\}}{\\operatorname{argmax}} P(d|c)P(c)$.\n",
        "\n",
        "The equivalence holds because $P(d)$ is the same for any $c$. Thus the denominator can be dropped.\n",
        "\n",
        "Denote $d=\\{x_1, x_2, ..., x_n\\}$ where $x_i$'s are words in the news *d* (sometimes called features). Unlike n-gram language modelling, we make the multinomial Naive Bayes independence assumption here, where we assume positions of words do not matter. Formally, \n",
        "\\begin{align*}\n",
        "&\\underset{c\\in \\{0,1\\}}{\\operatorname{argmax}} P(d|c)P(c)\\\\\n",
        "=&\\underset{c\\in \\{0,1\\}}{\\operatorname{argmax}} P(x_1, ..., x_n|c)P(c)\\\\\n",
        "=&\\underset{c\\in \\{0,1\\}}{\\operatorname{argmax}} P(x_1|c)P(x_2|c)...P(x_n|c)\n",
        "\\end{align*}\n",
        "\n",
        "Now we only need to collect the occurences of each word for the classification. This is often called a **bag of words** feature. \n",
        "\n",
        "For instance, in the sentence `All for one and one for all .`, the bag of words feature would be `{\"all\": 2, \"for\": 2, \"one\": 2, \"and\": 1, \".\": 1}`. Essentially, the bag of words feature is a dictionary which maps the word to its occurences. We can see that the order is not considered here.\n",
        "\n",
        "Now, your goal is to implement the Multinomial Naive Bayes. You can use existing codes or Python packages, and adapt them to our news classification task.\n",
        "\n",
        "You might find the following packages/functions useful:\n",
        "\n",
        "* nltk.word_tokenize(), nltk.word_tokenize()\n",
        "* nltk.classify.naivebayes()\n",
        "* sklearn.feature_extraction.text\n",
        "* sklearn.naive_bayes.MultinomialNB()"
      ]
    },
    {
      "cell_type": "markdown",
      "metadata": {
        "id": "ZtQpd3ciodGZ"
      },
      "source": [
        "**Please answer the following question(s).**\n",
        "\n",
        "**Q6: Comparing Multinomial Naive Bayes with the unigram language model, which one do you expect to perform better? Why?**\n",
        "\n",
        "A: \n",
        "\n",
        "A multinomial naive bayes using unigram bag of words as given above is comparable to the unigram model. But multinomialmnaive bayes with better features e.g. more than one-gram will outperform unigram model"
      ]
    },
    {
      "cell_type": "markdown",
      "metadata": {
        "id": "ZaZTryrewV4I"
      },
      "source": [
        "## 6.1 Implementation"
      ]
    },
    {
      "cell_type": "code",
      "metadata": {
        "id": "R7sKB41rmrTW"
      },
      "source": [
        "X_train, X_val, X_test, Y_train, Y_val = [], [], [], [], []\n",
        "with io.open(os.path.join(dataset_path, \"trueDataTrain.txt\"), encoding='utf8') as real_file:\n",
        "  for article in real_file:\n",
        "    X_train.append(article)\n",
        "    Y_train.append(1)\n",
        "\n",
        "with io.open(os.path.join(dataset_path, \"fakeDataTrain.txt\"), encoding='utf8') as fake_file:\n",
        "  for article in fake_file:\n",
        "    X_train.append(article)\n",
        "    Y_train.append(0)\n",
        "    \n",
        "with io.open(os.path.join(dataset_path, \"fakeDataValidation.txt\"), encoding='utf8') as fake_file:\n",
        "  for article in fake_file:\n",
        "    X_val.append(article)\n",
        "    Y_val.append(0)\n",
        "\n",
        "with io.open(os.path.join(dataset_path, \"trueDataValidation.txt\"), encoding='utf8') as real_file:\n",
        "  for article in real_file:\n",
        "    X_val.append(article)\n",
        "    Y_val.append(1)\n",
        "\n",
        "with io.open(os.path.join(dataset_path, \"TestData.txt\"), encoding='utf8') as test_file:\n",
        "  for article in test_file:\n",
        "    X_test.append(article)\n"
      ],
      "execution_count": null,
      "outputs": []
    },
    {
      "cell_type": "code",
      "metadata": {
        "id": "zOOTfuRZT4Uv",
        "outputId": "4f3e3e1e-e590-4b55-f80e-b4f8efffc8a9",
        "colab": {
          "base_uri": "https://localhost:8080/"
        }
      },
      "source": [
        "# TODO: Naive Bayes implementation \n",
        "\n",
        "vectorizer = CountVectorizer(ngram_range=(3,4))\n",
        "X_trains = vectorizer.fit_transform(X_train)\n",
        "X_vals = vectorizer.transform(X_val)\n",
        "X_tests = vectorizer.transform(X_test)\n",
        "transformer = TfidfTransformer()\n",
        "X_trains = transformer.fit_transform(X_trains)\n",
        "X_vals = transformer.transform(X_vals)\n",
        "X_tests = transformer.transform(X_tests)\n",
        "clf = MultinomialNB()\n",
        "clf.fit(X_trains, Y_train)"
      ],
      "execution_count": null,
      "outputs": [
        {
          "output_type": "execute_result",
          "data": {
            "text/plain": [
              "MultinomialNB(alpha=1.0, class_prior=None, fit_prior=True)"
            ]
          },
          "metadata": {
            "tags": []
          },
          "execution_count": 32
        }
      ]
    },
    {
      "cell_type": "code",
      "metadata": {
        "id": "lcY0Y_LAB5FC",
        "outputId": "b661d294-eb03-453d-b91c-2e59f3946336",
        "colab": {
          "base_uri": "https://localhost:8080/",
          "height": 34
        }
      },
      "source": [
        "pred_val = clf.predict(X_vals)\n",
        "val_error = sum(list(map(abs, pred_val-Y_val)))/len(Y_val)\n",
        "print(val_error)\n",
        "pred_test = clf.predict(X_tests)\n",
        "\n"
      ],
      "execution_count": null,
      "outputs": [
        {
          "output_type": "stream",
          "text": [
            "0.020378619153674834\n"
          ],
          "name": "stdout"
        }
      ]
    },
    {
      "cell_type": "markdown",
      "metadata": {
        "id": "NWurBZeiwZmT"
      },
      "source": [
        "## 6.2 Putting Everything Together and Submitting to Kaggle\n",
        "\n",
        "You should use your trained model to predict labels for all the news in `TestData.txt`. Output your predictions to a **csv** file and submit it to kaggle. The format should follow Part 6 as well.\n",
        "\n",
        "Use this Kaggle [link](https://www.kaggle.com/t/e8e4f7ee507843d1902c168529d705c8) to submit your output."
      ]
    },
    {
      "cell_type": "code",
      "metadata": {
        "id": "LfX5bhyhMg5z"
      },
      "source": [
        "# TODO: Code for predicting the test labels and generating the output file. Then submit the output file to Kaggle\n",
        "with io.open(os.path.join(dataset_path, \"preds_nb.csv\"), 'w', newline='') as out:\n",
        "  writer = csv.writer(out)\n",
        "  writer.writerow(['Id', 'Prediction'])\n",
        "  count = 0\n",
        "  for pred in pred_test:\n",
        "    writer.writerow([count, pred])\n",
        "    count += 1"
      ],
      "execution_count": null,
      "outputs": []
    },
    {
      "cell_type": "markdown",
      "metadata": {
        "id": "9MVtIIyEzSS2"
      },
      "source": [
        "# Work Distribution\n",
        "\n",
        "**Please briefly describe how you divided the work.**\n",
        "\n",
        "Your answer:\n",
        "\n",
        "We worked on the project jointly, although Frank worked mostly on part 1-3 and Luke part 4-6\n"
      ]
    },
    {
      "cell_type": "markdown",
      "metadata": {
        "id": "ddOznZ7P2nlI"
      },
      "source": [
        "# Project Feedback [1 point]\n",
        "It goes without saying that this is an unprecedented time. We on the course staff are trying our best to adapt our teaching, projects and everything else in the class to this new modality. We would immenselly appreciate it if you could provide us feedback (it's a super short form!!) on this project and **it's worth 1 point of your project grade**\n",
        "\n",
        "Link to the feedback form: https://forms.gle/xfonP9rJk9Uk7zaSA \n",
        "\n",
        "We will use this feedback to improve both **upcoming projects** and projects for next year. \n",
        "\n",
        "Thank you so much!"
      ]
    },
    {
      "cell_type": "markdown",
      "metadata": {
        "id": "fBrWSR2bs77m"
      },
      "source": [
        "# Submitting the Notebook\n",
        "\n",
        "1. Go to File (upper left corner) -> Download .ipynb -> submit this downloaded file to cms\n",
        "2. Run the first code block\n",
        "3. Replace our placeholder for your correct Google Drive directory structure in the 2nd code block below. Run the code block\n",
        "4. Put the name of this notebook into our placeholder in the 3rd code block. Run the code block\n",
        "5. Then go to the folder icon on the very left panel, under the orange CO logo. Click on the folder and wait for a PDF version of your notebook to appear. Might take a few minutes.\n",
        "6. Download the pdf version and submit to Gradescope"
      ]
    },
    {
      "cell_type": "code",
      "metadata": {
        "id": "8jg5v1sRzP5m"
      },
      "source": [
        "%%capture\n",
        "!apt-get install texlive texlive-xetex texlive-latex-extra pandoc\n",
        "!pip install pypandoc"
      ],
      "execution_count": null,
      "outputs": []
    },
    {
      "cell_type": "code",
      "metadata": {
        "id": "_eOenvlzzRTh"
      },
      "source": [
        "%%capture\n",
        "# the red text is a placeholder! Change it to your directory structure!\n",
        "!cp 'drive/My Drive/CS5740/P1/4740_FA20_p1_lkn28_foo6.ipynb' ./ "
      ],
      "execution_count": null,
      "outputs": []
    },
    {
      "cell_type": "code",
      "metadata": {
        "id": "BOMiIp6Uzj1S",
        "outputId": "30883b73-50a5-4919-e561-eb06eea12006",
        "colab": {
          "base_uri": "https://localhost:8080/",
          "height": 187
        }
      },
      "source": [
        "# the red text is a placeholder! Change it to the name of this notebook!\n",
        "!jupyter nbconvert --to PDF \"4740_FA20_p1_lkn28_foo6.ipynb\""
      ],
      "execution_count": null,
      "outputs": [
        {
          "output_type": "stream",
          "text": [
            "[NbConvertApp] Converting notebook 4740_FA20_p1_lkn28_foo6.ipynb to PDF\n",
            "[NbConvertApp] Support files will be in 4740_FA20_p1_lkn28_foo6_files/\n",
            "[NbConvertApp] Making directory ./4740_FA20_p1_lkn28_foo6_files\n",
            "[NbConvertApp] Writing 92448 bytes to ./notebook.tex\n",
            "[NbConvertApp] Building PDF\n",
            "[NbConvertApp] Running xelatex 3 times: [u'xelatex', u'./notebook.tex', '-quiet']\n",
            "[NbConvertApp] Running bibtex 1 time: [u'bibtex', u'./notebook']\n",
            "[NbConvertApp] WARNING | bibtex had problems, most likely because there were no citations\n",
            "[NbConvertApp] PDF successfully created\n",
            "[NbConvertApp] Writing 110523 bytes to 4740_FA20_p1_lkn28_foo6.pdf\n"
          ],
          "name": "stdout"
        }
      ]
    },
    {
      "cell_type": "markdown",
      "metadata": {
        "id": "HvET3mDvxL2j"
      },
      "source": [
        "# You are done! ✅"
      ]
    }
  ]
}